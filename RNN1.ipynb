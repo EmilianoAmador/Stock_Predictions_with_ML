{
 "cells": [
  {
   "cell_type": "code",
   "execution_count": 1,
   "metadata": {},
   "outputs": [],
   "source": [
    "import os\n",
    "from pathlib import Path\n",
    "import requests\n",
    "import datetime\n",
    "import json\n",
    "import pandas as pd\n",
    "import numpy as np\n",
    "import matplotlib.pyplot as plt\n",
    "%matplotlib inline\n",
    "from pprint import pprint as pp\n",
    "\n",
    "from alpha_vantage.timeseries import TimeSeries\n"
   ]
  },
  {
   "cell_type": "code",
   "execution_count": 2,
   "metadata": {},
   "outputs": [],
   "source": [
    "from numpy.random import seed\n",
    "seed(23)\n",
    "from tensorflow import random\n",
    "\n",
    "random.set_seed(32)\n",
    "alpha_vantage_api='DD0OK7DPKZNJJ57X'"
   ]
  },
  {
   "cell_type": "code",
   "execution_count": 3,
   "metadata": {},
   "outputs": [
    {
     "data": {
      "text/plain": [
       "{'1. open': '303.9900',\n",
       " '2. high': '310.2000',\n",
       " '3. low': '303.8200',\n",
       " '4. close': '308.3600',\n",
       " '5. volume': '112828251'}"
      ]
     },
     "execution_count": 3,
     "metadata": {},
     "output_type": "execute_result"
    }
   ],
   "source": [
    "ts = TimeSeries(key='alpha_vantage_api')\n",
    "\n",
    "# Get json object with the daily price data and another with  the call's metadata\n",
    "\n",
    "\n",
    "#SPDR S&P 500 ETF \n",
    "sp500_etf_data, sp500_etf_meta_data = ts.get_daily('SPY', outputsize='full')\n",
    "sp500_etf_data['2020-06-30']"
   ]
  },
  {
   "cell_type": "code",
   "execution_count": 4,
   "metadata": {},
   "outputs": [
    {
     "data": {
      "text/html": [
       "<div>\n",
       "<style scoped>\n",
       "    .dataframe tbody tr th:only-of-type {\n",
       "        vertical-align: middle;\n",
       "    }\n",
       "\n",
       "    .dataframe tbody tr th {\n",
       "        vertical-align: top;\n",
       "    }\n",
       "\n",
       "    .dataframe thead th {\n",
       "        text-align: right;\n",
       "    }\n",
       "</style>\n",
       "<table border=\"1\" class=\"dataframe\">\n",
       "  <thead>\n",
       "    <tr style=\"text-align: right;\">\n",
       "      <th></th>\n",
       "      <th>Close</th>\n",
       "    </tr>\n",
       "    <tr>\n",
       "      <th>Date</th>\n",
       "      <th></th>\n",
       "    </tr>\n",
       "  </thead>\n",
       "  <tbody>\n",
       "    <tr>\n",
       "      <th>2020-07-07</th>\n",
       "      <td>313.7700</td>\n",
       "    </tr>\n",
       "    <tr>\n",
       "      <th>2020-07-06</th>\n",
       "      <td>317.0100</td>\n",
       "    </tr>\n",
       "    <tr>\n",
       "      <th>2020-07-02</th>\n",
       "      <td>312.1900</td>\n",
       "    </tr>\n",
       "    <tr>\n",
       "      <th>2020-07-01</th>\n",
       "      <td>310.5700</td>\n",
       "    </tr>\n",
       "    <tr>\n",
       "      <th>2020-06-30</th>\n",
       "      <td>308.3600</td>\n",
       "    </tr>\n",
       "  </tbody>\n",
       "</table>\n",
       "</div>"
      ],
      "text/plain": [
       "               Close\n",
       "Date                \n",
       "2020-07-07  313.7700\n",
       "2020-07-06  317.0100\n",
       "2020-07-02  312.1900\n",
       "2020-07-01  310.5700\n",
       "2020-06-30  308.3600"
      ]
     },
     "execution_count": 4,
     "metadata": {},
     "output_type": "execute_result"
    }
   ],
   "source": [
    "df = []\n",
    "for x in sp500_etf_data:\n",
    "        date = x\n",
    "        close = sp500_etf_data[x]['4. close']\n",
    "        df.append({\n",
    "            \"Date\": date,\n",
    "            \"Close\": close,\n",
    "        })\n",
    "tickers_df = pd.DataFrame(df)\n",
    "tickers_df = tickers_df[['Date', 'Close']]\n",
    "#tickers_df.sort_values(by='Date', ascending = False, inplace=True)\n",
    "tickers_df['Date']= pd.to_datetime(tickers_df['Date'])\n",
    "tickers_df.set_index(\"Date\", inplace=True)\n",
    "tickers_df.head()"
   ]
  },
  {
   "cell_type": "code",
   "execution_count": 5,
   "metadata": {},
   "outputs": [],
   "source": [
    "def window_data(df, window, feature_col_number, target_col_number):\n",
    "    \"\"\"\n",
    "    This function accepts the column number for the features (X) and the target (y).\n",
    "    It chunks the data up with a rolling window of Xt - window to predict Xt.\n",
    "    It returns two numpy arrays of X and y.\n",
    "    \"\"\"\n",
    "    X = []\n",
    "    y = []\n",
    "    for i in range(len(df) - window - 1):\n",
    "        features = df.iloc[i : (i + window), feature_col_number]\n",
    "        target = df.iloc[(i + window), target_col_number]\n",
    "        X.append(features)\n",
    "        y.append(target)\n",
    "    return np.array(X), np.array(y).reshape(-1, 1)"
   ]
  },
  {
   "cell_type": "markdown",
   "metadata": {},
   "source": [
    "### 2. Creating the features (X) and target (y) data using the window_data() function"
   ]
  },
  {
   "cell_type": "code",
   "execution_count": 6,
   "metadata": {},
   "outputs": [],
   "source": [
    "window_size = 60\n",
    "feature_column = 0\n",
    "target_column = 0\n",
    "\n",
    "X, y = window_data(tickers_df, window_size, feature_column, target_column)\n",
    "# print (f\"X sample values:\\n{X[:5]} \\n\")\n",
    "# print (f\"y sample values:\\n{y[:5]}\")"
   ]
  },
  {
   "cell_type": "markdown",
   "metadata": {},
   "source": [
    "### 3. Splitting Data Into Training and Testing"
   ]
  },
  {
   "cell_type": "code",
   "execution_count": 7,
   "metadata": {},
   "outputs": [],
   "source": [
    "# Splitting 80% of the data for training and the remainder for testing.\n",
    "split = int(0.80 * len(X))\n",
    "X_train = X[: split - 1]\n",
    "X_test = X[split:]\n",
    "y_train = y[: split - 1]\n",
    "y_test = y[split:]"
   ]
  },
  {
   "cell_type": "markdown",
   "metadata": {},
   "source": [
    "### 4. Scale Data"
   ]
  },
  {
   "cell_type": "code",
   "execution_count": 8,
   "metadata": {},
   "outputs": [],
   "source": [
    "from sklearn.preprocessing import MinMaxScaler\n",
    "\n",
    "scaler = MinMaxScaler()\n",
    "scaler.fit(X)\n",
    "X_train = scaler.transform(X_train)\n",
    "X_test = scaler.transform(X_test)\n",
    "scaler.fit(y)\n",
    "y_train = scaler.transform(y_train)\n",
    "y_test = scaler.transform(y_test)"
   ]
  },
  {
   "cell_type": "markdown",
   "metadata": {},
   "source": [
    "### 5. Reshape Data"
   ]
  },
  {
   "cell_type": "code",
   "execution_count": 9,
   "metadata": {},
   "outputs": [],
   "source": [
    "X_train = X_train.reshape((X_train.shape[0], X_train.shape[1], 1))\n",
    "X_test = X_test.reshape((X_test.shape[0], X_test.shape[1], 1))\n",
    "#print (f\"X_train sample values:\\n{X_train[:5]} \\n\")\n",
    "#print (f\"X_test sample values:\\n{X_test[:5]}\")"
   ]
  },
  {
   "cell_type": "markdown",
   "metadata": {},
   "source": [
    "### 6. Build and Train Model"
   ]
  },
  {
   "cell_type": "code",
   "execution_count": 10,
   "metadata": {},
   "outputs": [],
   "source": [
    "# Importing required Keras modules\n",
    "from tensorflow.keras.models import Sequential\n",
    "from tensorflow.keras.layers import LSTM, Dense, Dropout"
   ]
  },
  {
   "cell_type": "code",
   "execution_count": 11,
   "metadata": {},
   "outputs": [],
   "source": [
    "# a. Define the LSTM RNN model.\n",
    "model = Sequential()\n",
    "\n",
    " # Initial model setup\n",
    "number_units = 60\n",
    "dropout_fraction = 0.2\n",
    "\n",
    " # Layer 1\n",
    "model.add(LSTM(\n",
    "    units=number_units,\n",
    "    return_sequences=True,\n",
    "    input_shape=(X_train.shape[1], 1))\n",
    "    )\n",
    "model.add(Dropout(dropout_fraction))\n",
    "\n",
    " # Layer 2\n",
    "model.add(LSTM(units=number_units, return_sequences=True))\n",
    "model.add(Dropout(dropout_fraction))\n",
    "\n",
    " # Layer 3\n",
    "model.add(LSTM(units=number_units))\n",
    "model.add(Dropout(dropout_fraction))\n",
    "\n",
    " # Output layer\n",
    "model.add(Dense(1))"
   ]
  },
  {
   "cell_type": "code",
   "execution_count": 12,
   "metadata": {},
   "outputs": [],
   "source": [
    "# b. Compile the model\n",
    "#model.compile(optimizer=\"adam\", loss=\"mean_squared_error\")\n",
    "#opt = SGD(lr=0.01, momentum=0.9)\n",
    "model.compile(loss='mean_absolute_error', optimizer=\"adam\", metrics=['mse'])"
   ]
  },
  {
   "cell_type": "code",
   "execution_count": 13,
   "metadata": {},
   "outputs": [
    {
     "name": "stdout",
     "output_type": "stream",
     "text": [
      "Model: \"sequential\"\n",
      "_________________________________________________________________\n",
      "Layer (type)                 Output Shape              Param #   \n",
      "=================================================================\n",
      "lstm (LSTM)                  (None, 60, 60)            14880     \n",
      "_________________________________________________________________\n",
      "dropout (Dropout)            (None, 60, 60)            0         \n",
      "_________________________________________________________________\n",
      "lstm_1 (LSTM)                (None, 60, 60)            29040     \n",
      "_________________________________________________________________\n",
      "dropout_1 (Dropout)          (None, 60, 60)            0         \n",
      "_________________________________________________________________\n",
      "lstm_2 (LSTM)                (None, 60)                29040     \n",
      "_________________________________________________________________\n",
      "dropout_2 (Dropout)          (None, 60)                0         \n",
      "_________________________________________________________________\n",
      "dense (Dense)                (None, 1)                 61        \n",
      "=================================================================\n",
      "Total params: 73,021\n",
      "Trainable params: 73,021\n",
      "Non-trainable params: 0\n",
      "_________________________________________________________________\n"
     ]
    }
   ],
   "source": [
    "# c. Summary\n",
    "model.summary()"
   ]
  },
  {
   "cell_type": "code",
   "execution_count": 14,
   "metadata": {},
   "outputs": [
    {
     "name": "stdout",
     "output_type": "stream",
     "text": [
      "Train on 3975 samples\n",
      "Epoch 1/100\n",
      "3975/3975 [==============================] - 5s 1ms/sample - loss: 0.0748 - mse: 0.0199\n",
      "Epoch 2/100\n",
      "3975/3975 [==============================] - 1s 364us/sample - loss: 0.0668 - mse: 0.0137\n",
      "Epoch 3/100\n",
      "3975/3975 [==============================] - 1s 356us/sample - loss: 0.0694 - mse: 0.0136\n",
      "Epoch 4/100\n",
      "3975/3975 [==============================] - 1s 356us/sample - loss: 0.0705 - mse: 0.0157\n",
      "Epoch 5/100\n",
      "3975/3975 [==============================] - 1s 356us/sample - loss: 0.0699 - mse: 0.0159\n",
      "Epoch 6/100\n",
      "3975/3975 [==============================] - 1s 375us/sample - loss: 0.0774 - mse: 0.0206\n",
      "Epoch 7/100\n",
      "3975/3975 [==============================] - 2s 380us/sample - loss: 0.0841 - mse: 0.0217\n",
      "Epoch 8/100\n",
      "3975/3975 [==============================] - 2s 378us/sample - loss: 0.0894 - mse: 0.0270\n",
      "Epoch 9/100\n",
      "3975/3975 [==============================] - 1s 373us/sample - loss: 0.0771 - mse: 0.0169\n",
      "Epoch 10/100\n",
      "3975/3975 [==============================] - 1s 374us/sample - loss: 0.0776 - mse: 0.0218\n",
      "Epoch 11/100\n",
      "3975/3975 [==============================] - 1s 375us/sample - loss: 0.0639 - mse: 0.0134\n",
      "Epoch 12/100\n",
      "3975/3975 [==============================] - 1s 377us/sample - loss: 0.0641 - mse: 0.0140\n",
      "Epoch 13/100\n",
      "3975/3975 [==============================] - 2s 391us/sample - loss: 0.0654 - mse: 0.0138\n",
      "Epoch 14/100\n",
      "3975/3975 [==============================] - 1s 375us/sample - loss: 0.0584 - mse: 0.0118\n",
      "Epoch 15/100\n",
      "3975/3975 [==============================] - 1s 374us/sample - loss: 0.0566 - mse: 0.0105\n",
      "Epoch 16/100\n",
      "3975/3975 [==============================] - 1s 374us/sample - loss: 0.0568 - mse: 0.0112\n",
      "Epoch 17/100\n",
      "3975/3975 [==============================] - 2s 383us/sample - loss: 0.0509 - mse: 0.0087\n",
      "Epoch 18/100\n",
      "3975/3975 [==============================] - 2s 388us/sample - loss: 0.0526 - mse: 0.0094\n",
      "Epoch 19/100\n",
      "3975/3975 [==============================] - 2s 378us/sample - loss: 0.0514 - mse: 0.0091\n",
      "Epoch 20/100\n",
      "3975/3975 [==============================] - 2s 381us/sample - loss: 0.0529 - mse: 0.0097\n",
      "Epoch 21/100\n",
      "3975/3975 [==============================] - 2s 380us/sample - loss: 0.0461 - mse: 0.0076\n",
      "Epoch 22/100\n",
      "3975/3975 [==============================] - 1s 376us/sample - loss: 0.0462 - mse: 0.0068\n",
      "Epoch 23/100\n",
      "3975/3975 [==============================] - 2s 389us/sample - loss: 0.0505 - mse: 0.0092\n",
      "Epoch 24/100\n",
      "3975/3975 [==============================] - 2s 383us/sample - loss: 0.0423 - mse: 0.0061\n",
      "Epoch 25/100\n",
      "3975/3975 [==============================] - 2s 383us/sample - loss: 0.0474 - mse: 0.0078\n",
      "Epoch 26/100\n",
      "3975/3975 [==============================] - 2s 382us/sample - loss: 0.0438 - mse: 0.0065\n",
      "Epoch 27/100\n",
      "3975/3975 [==============================] - 2s 389us/sample - loss: 0.0461 - mse: 0.0075\n",
      "Epoch 28/100\n",
      "3975/3975 [==============================] - 2s 382us/sample - loss: 0.0439 - mse: 0.0065\n",
      "Epoch 29/100\n",
      "3975/3975 [==============================] - 2s 378us/sample - loss: 0.0461 - mse: 0.0075\n",
      "Epoch 30/100\n",
      "3975/3975 [==============================] - 1s 376us/sample - loss: 0.0412 - mse: 0.0057\n",
      "Epoch 31/100\n",
      "3975/3975 [==============================] - 1s 375us/sample - loss: 0.0461 - mse: 0.0079\n",
      "Epoch 32/100\n",
      "3975/3975 [==============================] - 1s 376us/sample - loss: 0.0374 - mse: 0.0049\n",
      "Epoch 33/100\n",
      "3975/3975 [==============================] - 1s 376us/sample - loss: 0.0441 - mse: 0.0065\n",
      "Epoch 34/100\n",
      "3975/3975 [==============================] - 2s 398us/sample - loss: 0.0437 - mse: 0.0068\n",
      "Epoch 35/100\n",
      "3975/3975 [==============================] - 2s 378us/sample - loss: 0.0408 - mse: 0.0056\n",
      "Epoch 36/100\n",
      "3975/3975 [==============================] - 1s 377us/sample - loss: 0.0438 - mse: 0.0069\n",
      "Epoch 37/100\n",
      "3975/3975 [==============================] - 1s 377us/sample - loss: 0.0398 - mse: 0.0052\n",
      "Epoch 38/100\n",
      "3975/3975 [==============================] - 2s 383us/sample - loss: 0.0387 - mse: 0.0054\n",
      "Epoch 39/100\n",
      "3975/3975 [==============================] - 2s 385us/sample - loss: 0.0394 - mse: 0.0051\n",
      "Epoch 40/100\n",
      "3975/3975 [==============================] - 2s 377us/sample - loss: 0.0427 - mse: 0.0065\n",
      "Epoch 41/100\n",
      "3975/3975 [==============================] - 2s 378us/sample - loss: 0.0382 - mse: 0.0049\n",
      "Epoch 42/100\n",
      "3975/3975 [==============================] - 2s 380us/sample - loss: 0.0416 - mse: 0.0062\n",
      "Epoch 43/100\n",
      "3975/3975 [==============================] - 2s 379us/sample - loss: 0.0379 - mse: 0.0047\n",
      "Epoch 44/100\n",
      "3975/3975 [==============================] - 2s 392us/sample - loss: 0.0438 - mse: 0.0067\n",
      "Epoch 45/100\n",
      "3975/3975 [==============================] - 2s 388us/sample - loss: 0.0358 - mse: 0.0044\n",
      "Epoch 46/100\n",
      "3975/3975 [==============================] - 2s 378us/sample - loss: 0.0406 - mse: 0.0057\n",
      "Epoch 47/100\n",
      "3975/3975 [==============================] - 2s 378us/sample - loss: 0.0372 - mse: 0.0047\n",
      "Epoch 48/100\n",
      "3975/3975 [==============================] - 2s 378us/sample - loss: 0.0415 - mse: 0.0062\n",
      "Epoch 49/100\n",
      "3975/3975 [==============================] - 1s 377us/sample - loss: 0.0346 - mse: 0.0038s - lo\n",
      "Epoch 50/100\n",
      "3975/3975 [==============================] - 2s 379us/sample - loss: 0.0429 - mse: 0.0068\n",
      "Epoch 51/100\n",
      "3975/3975 [==============================] - 1s 377us/sample - loss: 0.0320 - mse: 0.0035\n",
      "Epoch 52/100\n",
      "3975/3975 [==============================] - 2s 378us/sample - loss: 0.0389 - mse: 0.0056\n",
      "Epoch 53/100\n",
      "3975/3975 [==============================] - 1s 377us/sample - loss: 0.0326 - mse: 0.0037\n",
      "Epoch 54/100\n",
      "3975/3975 [==============================] - 2s 384us/sample - loss: 0.0368 - mse: 0.0051\n",
      "Epoch 55/100\n",
      "3975/3975 [==============================] - 2s 400us/sample - loss: 0.0334 - mse: 0.0037\n",
      "Epoch 56/100\n",
      "3975/3975 [==============================] - 2s 390us/sample - loss: 0.0391 - mse: 0.0054\n",
      "Epoch 57/100\n",
      "3975/3975 [==============================] - 2s 392us/sample - loss: 0.0318 - mse: 0.0033s - loss: 0.0428 - m\n",
      "Epoch 58/100\n",
      "3975/3975 [==============================] - 2s 383us/sample - loss: 0.0424 - mse: 0.0063\n",
      "Epoch 59/100\n",
      "3975/3975 [==============================] - 2s 379us/sample - loss: 0.0304 - mse: 0.0031\n",
      "Epoch 60/100\n",
      "3975/3975 [==============================] - 2s 381us/sample - loss: 0.0386 - mse: 0.0053\n",
      "Epoch 61/100\n",
      "3975/3975 [==============================] - 2s 382us/sample - loss: 0.0313 - mse: 0.0035\n",
      "Epoch 62/100\n",
      "3975/3975 [==============================] - 2s 393us/sample - loss: 0.0368 - mse: 0.0048\n",
      "Epoch 63/100\n",
      "3975/3975 [==============================] - 2s 388us/sample - loss: 0.0350 - mse: 0.0043\n",
      "Epoch 64/100\n",
      "3975/3975 [==============================] - 2s 388us/sample - loss: 0.0346 - mse: 0.0041\n",
      "Epoch 65/100\n",
      "3975/3975 [==============================] - 2s 480us/sample - loss: 0.0359 - mse: 0.0046\n",
      "Epoch 66/100\n",
      "3975/3975 [==============================] - 2s 426us/sample - loss: 0.0304 - mse: 0.0031\n",
      "Epoch 67/100\n",
      "3975/3975 [==============================] - 2s 416us/sample - loss: 0.0339 - mse: 0.0042\n",
      "Epoch 68/100\n",
      "3975/3975 [==============================] - 2s 432us/sample - loss: 0.0307 - mse: 0.0035\n",
      "Epoch 69/100\n",
      "3975/3975 [==============================] - 2s 427us/sample - loss: 0.0339 - mse: 0.0039\n",
      "Epoch 70/100\n",
      "3975/3975 [==============================] - 2s 610us/sample - loss: 0.0326 - mse: 0.0037\n",
      "Epoch 71/100\n",
      "3975/3975 [==============================] - 2s 404us/sample - loss: 0.0321 - mse: 0.0037\n",
      "Epoch 72/100\n",
      "3975/3975 [==============================] - 2s 383us/sample - loss: 0.0336 - mse: 0.0039\n",
      "Epoch 73/100\n",
      "3975/3975 [==============================] - 2s 383us/sample - loss: 0.0336 - mse: 0.0041\n",
      "Epoch 74/100\n",
      "3975/3975 [==============================] - 2s 387us/sample - loss: 0.0303 - mse: 0.0034\n",
      "Epoch 75/100\n",
      "3975/3975 [==============================] - 2s 399us/sample - loss: 0.0293 - mse: 0.0031\n",
      "Epoch 76/100\n",
      "3975/3975 [==============================] - 2s 383us/sample - loss: 0.0302 - mse: 0.0033\n",
      "Epoch 77/100\n",
      "3975/3975 [==============================] - 2s 383us/sample - loss: 0.0304 - mse: 0.0034\n",
      "Epoch 78/100\n",
      "3975/3975 [==============================] - 2s 381us/sample - loss: 0.0330 - mse: 0.0037\n",
      "Epoch 79/100\n",
      "3975/3975 [==============================] - 2s 382us/sample - loss: 0.0336 - mse: 0.0040\n",
      "Epoch 80/100\n",
      "3975/3975 [==============================] - 2s 381us/sample - loss: 0.0262 - mse: 0.0025\n",
      "Epoch 81/100\n",
      "3975/3975 [==============================] - 2s 382us/sample - loss: 0.0294 - mse: 0.0032\n",
      "Epoch 82/100\n",
      "3975/3975 [==============================] - 2s 384us/sample - loss: 0.0294 - mse: 0.0033\n",
      "Epoch 83/100\n",
      "3975/3975 [==============================] - 2s 394us/sample - loss: 0.0277 - mse: 0.0029s - loss: 0.0348 - mse:\n",
      "Epoch 84/100\n",
      "3975/3975 [==============================] - 2s 381us/sample - loss: 0.0273 - mse: 0.0027\n",
      "Epoch 85/100\n",
      "3975/3975 [==============================] - 2s 403us/sample - loss: 0.0320 - mse: 0.0037\n",
      "Epoch 86/100\n",
      "3975/3975 [==============================] - 2s 385us/sample - loss: 0.0280 - mse: 0.0029\n",
      "Epoch 87/100\n",
      "3975/3975 [==============================] - 2s 385us/sample - loss: 0.0327 - mse: 0.0035\n",
      "Epoch 88/100\n",
      "3975/3975 [==============================] - 2s 384us/sample - loss: 0.0338 - mse: 0.0042\n",
      "Epoch 89/100\n",
      "3975/3975 [==============================] - 2s 383us/sample - loss: 0.0272 - mse: 0.0028\n",
      "Epoch 90/100\n",
      "3975/3975 [==============================] - 2s 385us/sample - loss: 0.0272 - mse: 0.0028\n",
      "Epoch 91/100\n",
      "3975/3975 [==============================] - 2s 385us/sample - loss: 0.0274 - mse: 0.0029\n",
      "Epoch 92/100\n",
      "3975/3975 [==============================] - 2s 387us/sample - loss: 0.0297 - mse: 0.0032\n",
      "Epoch 93/100\n",
      "3975/3975 [==============================] - 2s 387us/sample - loss: 0.0289 - mse: 0.0029\n",
      "Epoch 94/100\n",
      "3975/3975 [==============================] - 2s 385us/sample - loss: 0.0303 - mse: 0.0036\n",
      "Epoch 95/100\n",
      "3975/3975 [==============================] - 2s 398us/sample - loss: 0.0261 - mse: 0.0025\n",
      "Epoch 96/100\n",
      "3975/3975 [==============================] - 2s 397us/sample - loss: 0.0261 - mse: 0.0026\n",
      "Epoch 97/100\n",
      "3975/3975 [==============================] - 2s 387us/sample - loss: 0.0250 - mse: 0.0021\n",
      "Epoch 98/100\n",
      "3975/3975 [==============================] - 2s 386us/sample - loss: 0.0303 - mse: 0.0034\n",
      "Epoch 99/100\n",
      "3975/3975 [==============================] - 2s 386us/sample - loss: 0.0286 - mse: 0.0032\n",
      "Epoch 100/100\n",
      "3975/3975 [==============================] - 2s 385us/sample - loss: 0.0255 - mse: 0.0023\n"
     ]
    },
    {
     "data": {
      "text/plain": [
       "<tensorflow.python.keras.callbacks.History at 0x12bd656abc8>"
      ]
     },
     "execution_count": 14,
     "metadata": {},
     "output_type": "execute_result"
    }
   ],
   "source": [
    "# Train the model\n",
    "model.fit(X_train, y_train, epochs=100, shuffle=False, batch_size=30)"
   ]
  },
  {
   "cell_type": "markdown",
   "metadata": {},
   "source": [
    "### 7. Make Predictions"
   ]
  },
  {
   "cell_type": "code",
   "execution_count": 15,
   "metadata": {},
   "outputs": [],
   "source": [
    "# a. Make predictions using the testing data X_test\n",
    "predicted = model.predict(X_test)"
   ]
  },
  {
   "cell_type": "code",
   "execution_count": 16,
   "metadata": {},
   "outputs": [
    {
     "data": {
      "text/html": [
       "<div>\n",
       "<style scoped>\n",
       "    .dataframe tbody tr th:only-of-type {\n",
       "        vertical-align: middle;\n",
       "    }\n",
       "\n",
       "    .dataframe tbody tr th {\n",
       "        vertical-align: top;\n",
       "    }\n",
       "\n",
       "    .dataframe thead th {\n",
       "        text-align: right;\n",
       "    }\n",
       "</style>\n",
       "<table border=\"1\" class=\"dataframe\">\n",
       "  <thead>\n",
       "    <tr style=\"text-align: right;\">\n",
       "      <th></th>\n",
       "      <th>Actual</th>\n",
       "      <th>Predicted</th>\n",
       "    </tr>\n",
       "  </thead>\n",
       "  <tbody>\n",
       "    <tr>\n",
       "      <th>0</th>\n",
       "      <td>114.39</td>\n",
       "      <td>111.634956</td>\n",
       "    </tr>\n",
       "    <tr>\n",
       "      <th>1</th>\n",
       "      <td>114.75</td>\n",
       "      <td>112.131508</td>\n",
       "    </tr>\n",
       "    <tr>\n",
       "      <th>2</th>\n",
       "      <td>113.77</td>\n",
       "      <td>112.554893</td>\n",
       "    </tr>\n",
       "    <tr>\n",
       "      <th>3</th>\n",
       "      <td>113.20</td>\n",
       "      <td>112.012428</td>\n",
       "    </tr>\n",
       "    <tr>\n",
       "      <th>4</th>\n",
       "      <td>113.63</td>\n",
       "      <td>111.337608</td>\n",
       "    </tr>\n",
       "  </tbody>\n",
       "</table>\n",
       "</div>"
      ],
      "text/plain": [
       "   Actual   Predicted\n",
       "0  114.39  111.634956\n",
       "1  114.75  112.131508\n",
       "2  113.77  112.554893\n",
       "3  113.20  112.012428\n",
       "4  113.63  111.337608"
      ]
     },
     "execution_count": 16,
     "metadata": {},
     "output_type": "execute_result"
    }
   ],
   "source": [
    "# b. Recover the original prices instead of the scaled version\n",
    "predicted_prices = scaler.inverse_transform(predicted)\n",
    "real_prices = scaler.inverse_transform(y_test.reshape(-1, 1))\n",
    "\n",
    "# Create a DataFrame of Real and Predicted values\n",
    "stocks = pd.DataFrame({\n",
    "    \"Actual\": real_prices.ravel(),\n",
    "    \"Predicted\": predicted_prices.ravel()\n",
    "})\n",
    "\n",
    "# Show the DataFrame's head\n",
    "stocks.head()"
   ]
  },
  {
   "cell_type": "markdown",
   "metadata": {},
   "source": [
    "### 8. Evaluate Model Performance"
   ]
  },
  {
   "cell_type": "code",
   "execution_count": 17,
   "metadata": {},
   "outputs": [
    {
     "data": {
      "text/plain": [
       "[0.01246432224709784, 0.0002369132]"
      ]
     },
     "execution_count": 17,
     "metadata": {},
     "output_type": "execute_result"
    }
   ],
   "source": [
    "# Evaluate the model\n",
    "model.evaluate(X_test, y_test, verbose=0)"
   ]
  },
  {
   "cell_type": "markdown",
   "metadata": {},
   "source": [
    "### 9. Plot"
   ]
  },
  {
   "cell_type": "code",
   "execution_count": 30,
   "metadata": {},
   "outputs": [
    {
     "name": "stderr",
     "output_type": "stream",
     "text": [
      "WARNING:param.OverlayPlot04288: title_format is deprecated. Please use title instead\n",
      "WARNING:param.OverlayPlot04288: title_format is deprecated. Please use title instead\n"
     ]
    },
    {
     "data": {
      "application/vnd.holoviews_exec.v0+json": "",
      "text/html": [
       "<div id='2231'>\n",
       "\n",
       "\n",
       "\n",
       "\n",
       "\n",
       "  <div class=\"bk-root\" id=\"0c4d28db-5444-433c-803f-a1b38aef9500\" data-root-id=\"2231\"></div>\n",
       "</div>\n",
       "<script type=\"application/javascript\">\n",
       "    function msg_handler(msg) {\n",
       "      var metadata = msg.metadata;\n",
       "      var buffers = msg.buffers;\n",
       "      var msg = msg.content.data;\n",
       "      if ((metadata.msg_type == \"Ready\")) {\n",
       "        if (metadata.content) {\n",
       "          console.log(\"Python callback returned following output:\", metadata.content);\n",
       "        }\n",
       "      } else if (metadata.msg_type == \"Error\") {\n",
       "        console.log(\"Python failed with the following traceback:\", metadata.traceback)\n",
       "      } else {\n",
       "        \n",
       "var plot_id = \"2231\";\n",
       "\n",
       "if ((plot_id in window.PyViz.plot_index) && (window.PyViz.plot_index[plot_id] != null)) {\n",
       "  var plot = window.PyViz.plot_index[plot_id];\n",
       "} else if ((Bokeh !== undefined) && (plot_id in Bokeh.index)) {\n",
       "  var plot = Bokeh.index[plot_id];\n",
       "}\n",
       "\n",
       "if (plot == null) {\n",
       "  return\n",
       "}\n",
       "\n",
       "if (plot_id in window.PyViz.receivers) {\n",
       "  var receiver = window.PyViz.receivers[plot_id];\n",
       "} else {\n",
       "  var receiver = new Bokeh.protocol.Receiver();\n",
       "  window.PyViz.receivers[plot_id] = receiver;\n",
       "}\n",
       "\n",
       "if ((buffers != undefined) && (buffers.length > 0)) {\n",
       "  receiver.consume(buffers[0].buffer)\n",
       "} else {\n",
       "  receiver.consume(msg)\n",
       "}\n",
       "\n",
       "const comm_msg = receiver.message;\n",
       "if ((comm_msg != null) && (Object.keys(comm_msg.content).length > 0)) {\n",
       "  plot.model.document.apply_json_patch(comm_msg.content, comm_msg.buffers)\n",
       "}\n",
       "\n",
       "      }\n",
       "    }\n",
       "    if ((window.PyViz == undefined) || (!window.PyViz.comm_manager)) {\n",
       "      console.log(\"Could not find comm manager\")\n",
       "    } else {\n",
       "      window.PyViz.comm_manager.register_target('2231', '8032efd076f1447793dead59726efb47', msg_handler);\n",
       "    }\n",
       "    \n",
       "(function(root) {\n",
       "  function embed_document(root) {\n",
       "  var docs_json = {\"bb74e76e-c2f7-4266-9c0c-11ade596e125\":{\"roots\":{\"references\":[{\"attributes\":{\"label\":{\"value\":\"Actual\"},\"renderers\":[{\"id\":\"2277\"}]},\"id\":\"2286\",\"type\":\"LegendItem\"},{\"attributes\":{\"data_source\":{\"id\":\"2287\"},\"glyph\":{\"id\":\"2290\"},\"hover_glyph\":null,\"muted_glyph\":{\"id\":\"2292\"},\"nonselection_glyph\":{\"id\":\"2291\"},\"selection_glyph\":null,\"view\":{\"id\":\"2294\"}},\"id\":\"2293\",\"type\":\"GlyphRenderer\"},{\"attributes\":{\"callback\":null,\"renderers\":[{\"id\":\"2277\"},{\"id\":\"2293\"}],\"tags\":[\"hv_created\"],\"tooltips\":[[\"Variable\",\"@{Variable}\"],[\"index\",\"@{index}\"],[\"value\",\"@{value}\"]]},\"id\":\"2235\",\"type\":\"HoverTool\"},{\"attributes\":{},\"id\":\"2258\",\"type\":\"ResetTool\"},{\"attributes\":{\"label\":{\"value\":\"Predicted\"},\"renderers\":[{\"id\":\"2293\"}]},\"id\":\"2303\",\"type\":\"LegendItem\"},{\"attributes\":{},\"id\":\"2256\",\"type\":\"WheelZoomTool\"},{\"attributes\":{\"line_alpha\":0.1,\"line_color\":\"#1f77b3\",\"line_width\":2,\"x\":{\"field\":\"index\"},\"y\":{\"field\":\"value\"}},\"id\":\"2275\",\"type\":\"Line\"},{\"attributes\":{\"data_source\":{\"id\":\"2271\"},\"glyph\":{\"id\":\"2274\"},\"hover_glyph\":null,\"muted_glyph\":{\"id\":\"2276\"},\"nonselection_glyph\":{\"id\":\"2275\"},\"selection_glyph\":null,\"view\":{\"id\":\"2278\"}},\"id\":\"2277\",\"type\":\"GlyphRenderer\"},{\"attributes\":{\"active_drag\":\"auto\",\"active_inspect\":\"auto\",\"active_multi\":null,\"active_scroll\":\"auto\",\"active_tap\":\"auto\",\"tools\":[{\"id\":\"2235\"},{\"id\":\"2254\"},{\"id\":\"2255\"},{\"id\":\"2256\"},{\"id\":\"2257\"},{\"id\":\"2258\"}]},\"id\":\"2260\",\"type\":\"Toolbar\"},{\"attributes\":{\"line_alpha\":0.2,\"line_color\":\"#1f77b3\",\"line_width\":2,\"x\":{\"field\":\"index\"},\"y\":{\"field\":\"value\"}},\"id\":\"2276\",\"type\":\"Line\"},{\"attributes\":{},\"id\":\"2312\",\"type\":\"UnionRenderers\"},{\"attributes\":{\"source\":{\"id\":\"2271\"}},\"id\":\"2278\",\"type\":\"CDSView\"},{\"attributes\":{\"data\":{\"Variable\":[\"Predicted\",\"Predicted\",\"Predicted\",\"Predicted\",\"Predicted\",\"Predicted\",\"Predicted\",\"Predicted\",\"Predicted\",\"Predicted\",\"Predicted\",\"Predicted\",\"Predicted\",\"Predicted\",\"Predicted\",\"Predicted\",\"Predicted\",\"Predicted\",\"Predicted\",\"Predicted\",\"Predicted\",\"Predicted\",\"Predicted\",\"Predicted\",\"Predicted\",\"Predicted\",\"Predicted\",\"Predicted\",\"Predicted\",\"Predicted\",\"Predicted\",\"Predicted\",\"Predicted\",\"Predicted\",\"Predicted\",\"Predicted\",\"Predicted\",\"Predicted\",\"Predicted\",\"Predicted\",\"Predicted\",\"Predicted\",\"Predicted\",\"Predicted\",\"Predicted\",\"Predicted\",\"Predicted\",\"Predicted\",\"Predicted\",\"Predicted\",\"Predicted\",\"Predicted\",\"Predicted\",\"Predicted\",\"Predicted\",\"Predicted\",\"Predicted\",\"Predicted\",\"Predicted\",\"Predicted\",\"Predicted\",\"Predicted\",\"Predicted\",\"Predicted\",\"Predicted\",\"Predicted\",\"Predicted\",\"Predicted\",\"Predicted\",\"Predicted\",\"Predicted\",\"Predicted\",\"Predicted\",\"Predicted\",\"Predicted\",\"Predicted\",\"Predicted\",\"Predicted\",\"Predicted\",\"Predicted\",\"Predicted\",\"Predicted\",\"Predicted\",\"Predicted\",\"Predicted\",\"Predicted\",\"Predicted\",\"Predicted\",\"Predicted\",\"Predicted\",\"Predicted\",\"Predicted\",\"Predicted\",\"Predicted\",\"Predicted\",\"Predicted\",\"Predicted\",\"Predicted\",\"Predicted\",\"Predicted\",\"Predicted\",\"Predicted\",\"Predicted\",\"Predicted\",\"Predicted\",\"Predicted\",\"Predicted\",\"Predicted\",\"Predicted\",\"Predicted\",\"Predicted\",\"Predicted\",\"Predicted\",\"Predicted\",\"Predicted\",\"Predicted\",\"Predicted\",\"Predicted\",\"Predicted\",\"Predicted\",\"Predicted\",\"Predicted\",\"Predicted\",\"Predicted\",\"Predicted\",\"Predicted\",\"Predicted\",\"Predicted\",\"Predicted\",\"Predicted\",\"Predicted\",\"Predicted\",\"Predicted\",\"Predicted\",\"Predicted\",\"Predicted\",\"Predicted\",\"Predicted\",\"Predicted\",\"Predicted\",\"Predicted\",\"Predicted\",\"Predicted\",\"Predicted\",\"Predicted\",\"Predicted\",\"Predicted\",\"Predicted\",\"Predicted\",\"Predicted\",\"Predicted\",\"Predicted\",\"Predicted\",\"Predicted\",\"Predicted\",\"Predicted\",\"Predicted\",\"Predicted\",\"Predicted\",\"Predicted\",\"Predicted\",\"Predicted\",\"Predicted\",\"Predicted\",\"Predicted\",\"Predicted\",\"Predicted\",\"Predicted\",\"Predicted\",\"Predicted\",\"Predicted\",\"Predicted\",\"Predicted\",\"Predicted\",\"Predicted\",\"Predicted\",\"Predicted\",\"Predicted\",\"Predicted\",\"Predicted\",\"Predicted\",\"Predicted\",\"Predicted\",\"Predicted\",\"Predicted\",\"Predicted\",\"Predicted\",\"Predicted\",\"Predicted\",\"Predicted\",\"Predicted\",\"Predicted\",\"Predicted\",\"Predicted\",\"Predicted\",\"Predicted\",\"Predicted\",\"Predicted\",\"Predicted\",\"Predicted\",\"Predicted\",\"Predicted\",\"Predicted\",\"Predicted\",\"Predicted\",\"Predicted\",\"Predicted\",\"Predicted\",\"Predicted\",\"Predicted\",\"Predicted\",\"Predicted\",\"Predicted\",\"Predicted\",\"Predicted\",\"Predicted\",\"Predicted\",\"Predicted\",\"Predicted\",\"Predicted\",\"Predicted\",\"Predicted\",\"Predicted\",\"Predicted\",\"Predicted\",\"Predicted\",\"Predicted\",\"Predicted\",\"Predicted\",\"Predicted\",\"Predicted\",\"Predicted\",\"Predicted\",\"Predicted\",\"Predicted\",\"Predicted\",\"Predicted\",\"Predicted\",\"Predicted\",\"Predicted\",\"Predicted\",\"Predicted\",\"Predicted\",\"Predicted\",\"Predicted\",\"Predicted\",\"Predicted\",\"Predicted\",\"Predicted\",\"Predicted\",\"Predicted\",\"Predicted\",\"Predicted\",\"Predicted\",\"Predicted\",\"Predicted\",\"Predicted\",\"Predicted\",\"Predicted\",\"Predicted\",\"Predicted\",\"Predicted\",\"Predicted\",\"Predicted\",\"Predicted\",\"Predicted\",\"Predicted\",\"Predicted\",\"Predicted\",\"Predicted\",\"Predicted\",\"Predicted\",\"Predicted\",\"Predicted\",\"Predicted\",\"Predicted\",\"Predicted\",\"Predicted\",\"Predicted\",\"Predicted\",\"Predicted\",\"Predicted\",\"Predicted\",\"Predicted\",\"Predicted\",\"Predicted\",\"Predicted\",\"Predicted\",\"Predicted\",\"Predicted\",\"Predicted\",\"Predicted\",\"Predicted\",\"Predicted\",\"Predicted\",\"Predicted\",\"Predicted\",\"Predicted\",\"Predicted\",\"Predicted\",\"Predicted\",\"Predicted\",\"Predicted\",\"Predicted\",\"Predicted\",\"Predicted\",\"Predicted\",\"Predicted\",\"Predicted\",\"Predicted\",\"Predicted\",\"Predicted\",\"Predicted\",\"Predicted\",\"Predicted\",\"Predicted\",\"Predicted\",\"Predicted\",\"Predicted\",\"Predicted\",\"Predicted\",\"Predicted\",\"Predicted\",\"Predicted\",\"Predicted\",\"Predicted\",\"Predicted\",\"Predicted\",\"Predicted\",\"Predicted\",\"Predicted\",\"Predicted\",\"Predicted\",\"Predicted\",\"Predicted\",\"Predicted\",\"Predicted\",\"Predicted\",\"Predicted\",\"Predicted\",\"Predicted\",\"Predicted\",\"Predicted\",\"Predicted\",\"Predicted\",\"Predicted\",\"Predicted\",\"Predicted\",\"Predicted\",\"Predicted\",\"Predicted\",\"Predicted\",\"Predicted\",\"Predicted\",\"Predicted\",\"Predicted\",\"Predicted\",\"Predicted\",\"Predicted\",\"Predicted\",\"Predicted\",\"Predicted\",\"Predicted\",\"Predicted\",\"Predicted\",\"Predicted\",\"Predicted\",\"Predicted\",\"Predicted\",\"Predicted\",\"Predicted\",\"Predicted\",\"Predicted\",\"Predicted\",\"Predicted\",\"Predicted\",\"Predicted\",\"Predicted\",\"Predicted\",\"Predicted\",\"Predicted\",\"Predicted\",\"Predicted\",\"Predicted\",\"Predicted\",\"Predicted\",\"Predicted\",\"Predicted\",\"Predicted\",\"Predicted\",\"Predicted\",\"Predicted\",\"Predicted\",\"Predicted\",\"Predicted\",\"Predicted\",\"Predicted\",\"Predicted\",\"Predicted\",\"Predicted\",\"Predicted\",\"Predicted\",\"Predicted\",\"Predicted\",\"Predicted\",\"Predicted\",\"Predicted\",\"Predicted\",\"Predicted\",\"Predicted\",\"Predicted\",\"Predicted\",\"Predicted\",\"Predicted\",\"Predicted\",\"Predicted\",\"Predicted\",\"Predicted\",\"Predicted\",\"Predicted\",\"Predicted\",\"Predicted\",\"Predicted\",\"Predicted\",\"Predicted\",\"Predicted\",\"Predicted\",\"Predicted\",\"Predicted\",\"Predicted\",\"Predicted\",\"Predicted\",\"Predicted\",\"Predicted\",\"Predicted\",\"Predicted\",\"Predicted\",\"Predicted\",\"Predicted\",\"Predicted\",\"Predicted\",\"Predicted\",\"Predicted\",\"Predicted\",\"Predicted\",\"Predicted\",\"Predicted\",\"Predicted\",\"Predicted\",\"Predicted\",\"Predicted\",\"Predicted\",\"Predicted\",\"Predicted\",\"Predicted\",\"Predicted\",\"Predicted\",\"Predicted\",\"Predicted\",\"Predicted\",\"Predicted\",\"Predicted\",\"Predicted\",\"Predicted\",\"Predicted\",\"Predicted\",\"Predicted\",\"Predicted\",\"Predicted\",\"Predicted\",\"Predicted\",\"Predicted\",\"Predicted\",\"Predicted\",\"Predicted\",\"Predicted\",\"Predicted\",\"Predicted\",\"Predicted\",\"Predicted\",\"Predicted\",\"Predicted\",\"Predicted\",\"Predicted\",\"Predicted\",\"Predicted\",\"Predicted\",\"Predicted\",\"Predicted\",\"Predicted\",\"Predicted\",\"Predicted\",\"Predicted\",\"Predicted\",\"Predicted\",\"Predicted\",\"Predicted\",\"Predicted\",\"Predicted\",\"Predicted\",\"Predicted\",\"Predicted\",\"Predicted\",\"Predicted\",\"Predicted\",\"Predicted\",\"Predicted\",\"Predicted\",\"Predicted\",\"Predicted\",\"Predicted\",\"Predicted\",\"Predicted\",\"Predicted\",\"Predicted\",\"Predicted\",\"Predicted\",\"Predicted\",\"Predicted\",\"Predicted\",\"Predicted\",\"Predicted\",\"Predicted\",\"Predicted\",\"Predicted\",\"Predicted\",\"Predicted\",\"Predicted\",\"Predicted\",\"Predicted\",\"Predicted\",\"Predicted\",\"Predicted\",\"Predicted\",\"Predicted\",\"Predicted\",\"Predicted\",\"Predicted\",\"Predicted\",\"Predicted\",\"Predicted\",\"Predicted\",\"Predicted\",\"Predicted\",\"Predicted\",\"Predicted\",\"Predicted\",\"Predicted\",\"Predicted\",\"Predicted\",\"Predicted\",\"Predicted\",\"Predicted\",\"Predicted\",\"Predicted\",\"Predicted\",\"Predicted\",\"Predicted\",\"Predicted\",\"Predicted\",\"Predicted\",\"Predicted\",\"Predicted\",\"Predicted\",\"Predicted\",\"Predicted\",\"Predicted\",\"Predicted\",\"Predicted\",\"Predicted\",\"Predicted\",\"Predicted\",\"Predicted\",\"Predicted\",\"Predicted\",\"Predicted\",\"Predicted\",\"Predicted\",\"Predicted\",\"Predicted\",\"Predicted\",\"Predicted\",\"Predicted\",\"Predicted\",\"Predicted\",\"Predicted\",\"Predicted\",\"Predicted\",\"Predicted\",\"Predicted\",\"Predicted\",\"Predicted\",\"Predicted\",\"Predicted\",\"Predicted\",\"Predicted\",\"Predicted\",\"Predicted\",\"Predicted\",\"Predicted\",\"Predicted\",\"Predicted\",\"Predicted\",\"Predicted\",\"Predicted\",\"Predicted\",\"Predicted\",\"Predicted\",\"Predicted\",\"Predicted\",\"Predicted\",\"Predicted\",\"Predicted\",\"Predicted\",\"Predicted\",\"Predicted\",\"Predicted\",\"Predicted\",\"Predicted\",\"Predicted\",\"Predicted\",\"Predicted\",\"Predicted\",\"Predicted\",\"Predicted\",\"Predicted\",\"Predicted\",\"Predicted\",\"Predicted\",\"Predicted\",\"Predicted\",\"Predicted\",\"Predicted\",\"Predicted\",\"Predicted\",\"Predicted\",\"Predicted\",\"Predicted\",\"Predicted\",\"Predicted\",\"Predicted\",\"Predicted\",\"Predicted\",\"Predicted\",\"Predicted\",\"Predicted\",\"Predicted\",\"Predicted\",\"Predicted\",\"Predicted\",\"Predicted\",\"Predicted\",\"Predicted\",\"Predicted\",\"Predicted\",\"Predicted\",\"Predicted\",\"Predicted\",\"Predicted\",\"Predicted\",\"Predicted\",\"Predicted\",\"Predicted\",\"Predicted\",\"Predicted\",\"Predicted\",\"Predicted\",\"Predicted\",\"Predicted\",\"Predicted\",\"Predicted\",\"Predicted\",\"Predicted\",\"Predicted\",\"Predicted\",\"Predicted\",\"Predicted\",\"Predicted\",\"Predicted\",\"Predicted\",\"Predicted\",\"Predicted\",\"Predicted\",\"Predicted\",\"Predicted\",\"Predicted\",\"Predicted\",\"Predicted\",\"Predicted\",\"Predicted\",\"Predicted\",\"Predicted\",\"Predicted\",\"Predicted\",\"Predicted\",\"Predicted\",\"Predicted\",\"Predicted\",\"Predicted\",\"Predicted\",\"Predicted\",\"Predicted\",\"Predicted\",\"Predicted\",\"Predicted\",\"Predicted\",\"Predicted\",\"Predicted\",\"Predicted\",\"Predicted\",\"Predicted\",\"Predicted\",\"Predicted\",\"Predicted\",\"Predicted\",\"Predicted\",\"Predicted\",\"Predicted\",\"Predicted\",\"Predicted\",\"Predicted\",\"Predicted\",\"Predicted\",\"Predicted\",\"Predicted\",\"Predicted\",\"Predicted\",\"Predicted\",\"Predicted\",\"Predicted\",\"Predicted\",\"Predicted\",\"Predicted\",\"Predicted\",\"Predicted\",\"Predicted\",\"Predicted\",\"Predicted\",\"Predicted\",\"Predicted\",\"Predicted\",\"Predicted\",\"Predicted\",\"Predicted\",\"Predicted\",\"Predicted\",\"Predicted\",\"Predicted\",\"Predicted\",\"Predicted\",\"Predicted\",\"Predicted\",\"Predicted\",\"Predicted\",\"Predicted\",\"Predicted\",\"Predicted\",\"Predicted\",\"Predicted\",\"Predicted\",\"Predicted\",\"Predicted\",\"Predicted\",\"Predicted\",\"Predicted\",\"Predicted\",\"Predicted\",\"Predicted\",\"Predicted\",\"Predicted\",\"Predicted\",\"Predicted\",\"Predicted\",\"Predicted\",\"Predicted\",\"Predicted\",\"Predicted\",\"Predicted\",\"Predicted\",\"Predicted\",\"Predicted\",\"Predicted\",\"Predicted\",\"Predicted\",\"Predicted\",\"Predicted\",\"Predicted\",\"Predicted\",\"Predicted\",\"Predicted\",\"Predicted\",\"Predicted\",\"Predicted\",\"Predicted\",\"Predicted\",\"Predicted\",\"Predicted\",\"Predicted\",\"Predicted\",\"Predicted\",\"Predicted\",\"Predicted\",\"Predicted\",\"Predicted\",\"Predicted\",\"Predicted\",\"Predicted\",\"Predicted\",\"Predicted\",\"Predicted\",\"Predicted\",\"Predicted\",\"Predicted\",\"Predicted\",\"Predicted\",\"Predicted\",\"Predicted\",\"Predicted\",\"Predicted\",\"Predicted\",\"Predicted\",\"Predicted\",\"Predicted\",\"Predicted\",\"Predicted\",\"Predicted\",\"Predicted\",\"Predicted\",\"Predicted\",\"Predicted\",\"Predicted\",\"Predicted\",\"Predicted\",\"Predicted\",\"Predicted\",\"Predicted\",\"Predicted\",\"Predicted\",\"Predicted\",\"Predicted\",\"Predicted\",\"Predicted\",\"Predicted\",\"Predicted\",\"Predicted\",\"Predicted\",\"Predicted\",\"Predicted\",\"Predicted\",\"Predicted\",\"Predicted\",\"Predicted\",\"Predicted\",\"Predicted\",\"Predicted\",\"Predicted\",\"Predicted\",\"Predicted\",\"Predicted\",\"Predicted\",\"Predicted\",\"Predicted\",\"Predicted\",\"Predicted\",\"Predicted\",\"Predicted\",\"Predicted\",\"Predicted\",\"Predicted\",\"Predicted\",\"Predicted\",\"Predicted\",\"Predicted\",\"Predicted\",\"Predicted\",\"Predicted\",\"Predicted\",\"Predicted\",\"Predicted\",\"Predicted\",\"Predicted\",\"Predicted\",\"Predicted\",\"Predicted\",\"Predicted\",\"Predicted\",\"Predicted\",\"Predicted\",\"Predicted\",\"Predicted\",\"Predicted\",\"Predicted\",\"Predicted\",\"Predicted\",\"Predicted\",\"Predicted\",\"Predicted\",\"Predicted\",\"Predicted\",\"Predicted\",\"Predicted\",\"Predicted\",\"Predicted\",\"Predicted\",\"Predicted\",\"Predicted\",\"Predicted\",\"Predicted\",\"Predicted\",\"Predicted\",\"Predicted\",\"Predicted\",\"Predicted\",\"Predicted\",\"Predicted\",\"Predicted\",\"Predicted\",\"Predicted\",\"Predicted\",\"Predicted\",\"Predicted\",\"Predicted\",\"Predicted\",\"Predicted\",\"Predicted\",\"Predicted\",\"Predicted\",\"Predicted\",\"Predicted\",\"Predicted\",\"Predicted\",\"Predicted\",\"Predicted\",\"Predicted\",\"Predicted\",\"Predicted\",\"Predicted\",\"Predicted\",\"Predicted\",\"Predicted\",\"Predicted\",\"Predicted\",\"Predicted\",\"Predicted\",\"Predicted\",\"Predicted\",\"Predicted\",\"Predicted\",\"Predicted\",\"Predicted\",\"Predicted\",\"Predicted\",\"Predicted\",\"Predicted\",\"Predicted\",\"Predicted\",\"Predicted\",\"Predicted\",\"Predicted\",\"Predicted\",\"Predicted\",\"Predicted\",\"Predicted\",\"Predicted\",\"Predicted\",\"Predicted\",\"Predicted\",\"Predicted\",\"Predicted\",\"Predicted\",\"Predicted\",\"Predicted\",\"Predicted\",\"Predicted\",\"Predicted\",\"Predicted\",\"Predicted\",\"Predicted\",\"Predicted\",\"Predicted\",\"Predicted\",\"Predicted\",\"Predicted\",\"Predicted\",\"Predicted\",\"Predicted\",\"Predicted\",\"Predicted\",\"Predicted\",\"Predicted\",\"Predicted\",\"Predicted\",\"Predicted\",\"Predicted\",\"Predicted\"],\"index\":[0,1,2,3,4,5,6,7,8,9,10,11,12,13,14,15,16,17,18,19,20,21,22,23,24,25,26,27,28,29,30,31,32,33,34,35,36,37,38,39,40,41,42,43,44,45,46,47,48,49,50,51,52,53,54,55,56,57,58,59,60,61,62,63,64,65,66,67,68,69,70,71,72,73,74,75,76,77,78,79,80,81,82,83,84,85,86,87,88,89,90,91,92,93,94,95,96,97,98,99,100,101,102,103,104,105,106,107,108,109,110,111,112,113,114,115,116,117,118,119,120,121,122,123,124,125,126,127,128,129,130,131,132,133,134,135,136,137,138,139,140,141,142,143,144,145,146,147,148,149,150,151,152,153,154,155,156,157,158,159,160,161,162,163,164,165,166,167,168,169,170,171,172,173,174,175,176,177,178,179,180,181,182,183,184,185,186,187,188,189,190,191,192,193,194,195,196,197,198,199,200,201,202,203,204,205,206,207,208,209,210,211,212,213,214,215,216,217,218,219,220,221,222,223,224,225,226,227,228,229,230,231,232,233,234,235,236,237,238,239,240,241,242,243,244,245,246,247,248,249,250,251,252,253,254,255,256,257,258,259,260,261,262,263,264,265,266,267,268,269,270,271,272,273,274,275,276,277,278,279,280,281,282,283,284,285,286,287,288,289,290,291,292,293,294,295,296,297,298,299,300,301,302,303,304,305,306,307,308,309,310,311,312,313,314,315,316,317,318,319,320,321,322,323,324,325,326,327,328,329,330,331,332,333,334,335,336,337,338,339,340,341,342,343,344,345,346,347,348,349,350,351,352,353,354,355,356,357,358,359,360,361,362,363,364,365,366,367,368,369,370,371,372,373,374,375,376,377,378,379,380,381,382,383,384,385,386,387,388,389,390,391,392,393,394,395,396,397,398,399,400,401,402,403,404,405,406,407,408,409,410,411,412,413,414,415,416,417,418,419,420,421,422,423,424,425,426,427,428,429,430,431,432,433,434,435,436,437,438,439,440,441,442,443,444,445,446,447,448,449,450,451,452,453,454,455,456,457,458,459,460,461,462,463,464,465,466,467,468,469,470,471,472,473,474,475,476,477,478,479,480,481,482,483,484,485,486,487,488,489,490,491,492,493,494,495,496,497,498,499,500,501,502,503,504,505,506,507,508,509,510,511,512,513,514,515,516,517,518,519,520,521,522,523,524,525,526,527,528,529,530,531,532,533,534,535,536,537,538,539,540,541,542,543,544,545,546,547,548,549,550,551,552,553,554,555,556,557,558,559,560,561,562,563,564,565,566,567,568,569,570,571,572,573,574,575,576,577,578,579,580,581,582,583,584,585,586,587,588,589,590,591,592,593,594,595,596,597,598,599,600,601,602,603,604,605,606,607,608,609,610,611,612,613,614,615,616,617,618,619,620,621,622,623,624,625,626,627,628,629,630,631,632,633,634,635,636,637,638,639,640,641,642,643,644,645,646,647,648,649,650,651,652,653,654,655,656,657,658,659,660,661,662,663,664,665,666,667,668,669,670,671,672,673,674,675,676,677,678,679,680,681,682,683,684,685,686,687,688,689,690,691,692,693,694,695,696,697,698,699,700,701,702,703,704,705,706,707,708,709,710,711,712,713,714,715,716,717,718,719,720,721,722,723,724,725,726,727,728,729,730,731,732,733,734,735,736,737,738,739,740,741,742,743,744,745,746,747,748,749,750,751,752,753,754,755,756,757,758,759,760,761,762,763,764,765,766,767,768,769,770,771,772,773,774,775,776,777,778,779,780,781,782,783,784,785,786,787,788,789,790,791,792,793,794,795,796,797,798,799,800,801,802,803,804,805,806,807,808,809,810,811,812,813,814,815,816,817,818,819,820,821,822,823,824,825,826,827,828,829,830,831,832,833,834,835,836,837,838,839,840,841,842,843,844,845,846,847,848,849,850,851,852,853,854,855,856,857,858,859,860,861,862,863,864,865,866,867,868,869,870,871,872,873,874,875,876,877,878,879,880,881,882,883,884,885,886,887,888,889,890,891,892,893,894,895,896,897,898,899,900,901,902,903,904,905,906,907,908,909,910,911,912,913,914,915,916,917,918,919,920,921,922,923,924,925,926,927,928,929,930,931,932,933,934,935,936,937,938,939,940,941,942,943,944,945,946,947,948,949,950,951,952,953,954,955,956,957,958,959,960,961,962,963,964,965,966,967,968,969,970,971,972,973,974,975,976,977,978,979,980,981,982,983,984,985,986,987,988,989,990,991,992,993,994],\"value\":{\"__ndarray__\":\"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\",\"dtype\":\"float32\",\"shape\":[995]}},\"selected\":{\"id\":\"2288\"},\"selection_policy\":{\"id\":\"2312\"}},\"id\":\"2287\",\"type\":\"ColumnDataSource\"},{\"attributes\":{},\"id\":\"2255\",\"type\":\"PanTool\"},{\"attributes\":{\"bottom_units\":\"screen\",\"fill_alpha\":0.5,\"fill_color\":\"lightgrey\",\"left_units\":\"screen\",\"level\":\"overlay\",\"line_alpha\":1.0,\"line_color\":\"black\",\"line_dash\":[4,4],\"line_width\":2,\"render_mode\":\"css\",\"right_units\":\"screen\",\"top_units\":\"screen\"},\"id\":\"2259\",\"type\":\"BoxAnnotation\"},{\"attributes\":{},\"id\":\"2247\",\"type\":\"BasicTicker\"},{\"attributes\":{\"line_color\":\"#1f77b3\",\"line_width\":2,\"x\":{\"field\":\"index\"},\"y\":{\"field\":\"value\"}},\"id\":\"2274\",\"type\":\"Line\"},{\"attributes\":{\"line_alpha\":0.2,\"line_color\":\"#ff7e0e\",\"line_width\":2,\"x\":{\"field\":\"index\"},\"y\":{\"field\":\"value\"}},\"id\":\"2292\",\"type\":\"Line\"},{\"attributes\":{\"overlay\":{\"id\":\"2259\"}},\"id\":\"2257\",\"type\":\"BoxZoomTool\"},{\"attributes\":{\"children\":[{\"id\":\"2232\"},{\"id\":\"2237\"},{\"id\":\"2384\"}],\"margin\":[0,0,0,0],\"name\":\"Row04234\",\"tags\":[\"embedded\"]},\"id\":\"2231\",\"type\":\"Row\"},{\"attributes\":{\"align\":null,\"below\":[{\"id\":\"2246\"}],\"center\":[{\"id\":\"2249\"},{\"id\":\"2253\"}],\"left\":[{\"id\":\"2250\"}],\"margin\":null,\"min_border_bottom\":10,\"min_border_left\":10,\"min_border_right\":10,\"min_border_top\":10,\"plot_width\":1400,\"renderers\":[{\"id\":\"2277\"},{\"id\":\"2293\"}],\"right\":[{\"id\":\"2285\"}],\"sizing_mode\":\"fixed\",\"title\":{\"id\":\"2238\"},\"toolbar\":{\"id\":\"2260\"},\"x_range\":{\"id\":\"2233\"},\"x_scale\":{\"id\":\"2242\"},\"y_range\":{\"id\":\"2234\"},\"y_scale\":{\"id\":\"2244\"}},\"id\":\"2237\",\"subtype\":\"Figure\",\"type\":\"Plot\"},{\"attributes\":{\"click_policy\":\"mute\",\"items\":[{\"id\":\"2286\"},{\"id\":\"2303\"}],\"location\":[0,0],\"title\":\"Variable\"},\"id\":\"2285\",\"type\":\"Legend\"},{\"attributes\":{},\"id\":\"2301\",\"type\":\"UnionRenderers\"},{\"attributes\":{},\"id\":\"2254\",\"type\":\"SaveTool\"},{\"attributes\":{\"margin\":[5,5,5,5],\"name\":\"HSpacer04239\",\"sizing_mode\":\"stretch_width\"},\"id\":\"2384\",\"type\":\"Spacer\"},{\"attributes\":{\"end\":159.94,\"reset_end\":159.94,\"reset_start\":70.66,\"start\":70.66,\"tags\":[[[\"value\",\"value\",null]]]},\"id\":\"2234\",\"type\":\"Range1d\"},{\"attributes\":{\"axis_label\":\"\",\"bounds\":\"auto\",\"formatter\":{\"id\":\"2270\"},\"major_label_orientation\":\"horizontal\",\"ticker\":{\"id\":\"2251\"}},\"id\":\"2250\",\"type\":\"LinearAxis\"},{\"attributes\":{\"end\":994.0,\"reset_end\":994.0,\"reset_start\":0.0,\"tags\":[[[\"index\",\"index\",null]]]},\"id\":\"2233\",\"type\":\"Range1d\"},{\"attributes\":{\"source\":{\"id\":\"2287\"}},\"id\":\"2294\",\"type\":\"CDSView\"},{\"attributes\":{\"margin\":[5,5,5,5],\"name\":\"HSpacer04238\",\"sizing_mode\":\"stretch_width\"},\"id\":\"2232\",\"type\":\"Spacer\"},{\"attributes\":{},\"id\":\"2272\",\"type\":\"Selection\"},{\"attributes\":{},\"id\":\"2242\",\"type\":\"LinearScale\"},{\"attributes\":{\"axis\":{\"id\":\"2250\"},\"dimension\":1,\"grid_line_color\":null,\"ticker\":null},\"id\":\"2253\",\"type\":\"Grid\"},{\"attributes\":{},\"id\":\"2244\",\"type\":\"LinearScale\"},{\"attributes\":{},\"id\":\"2270\",\"type\":\"BasicTickFormatter\"},{\"attributes\":{\"axis\":{\"id\":\"2246\"},\"grid_line_color\":null,\"ticker\":null},\"id\":\"2249\",\"type\":\"Grid\"},{\"attributes\":{\"text\":\"Actual Vs. Predicted Stock Prices\",\"text_color\":{\"value\":\"black\"},\"text_font_size\":{\"value\":\"12pt\"}},\"id\":\"2238\",\"type\":\"Title\"},{\"attributes\":{\"axis_label\":\"\",\"bounds\":\"auto\",\"formatter\":{\"id\":\"2268\"},\"major_label_orientation\":\"horizontal\",\"ticker\":{\"id\":\"2247\"}},\"id\":\"2246\",\"type\":\"LinearAxis\"},{\"attributes\":{\"line_alpha\":0.1,\"line_color\":\"#ff7e0e\",\"line_width\":2,\"x\":{\"field\":\"index\"},\"y\":{\"field\":\"value\"}},\"id\":\"2291\",\"type\":\"Line\"},{\"attributes\":{\"data\":{\"Variable\":[\"Actual\",\"Actual\",\"Actual\",\"Actual\",\"Actual\",\"Actual\",\"Actual\",\"Actual\",\"Actual\",\"Actual\",\"Actual\",\"Actual\",\"Actual\",\"Actual\",\"Actual\",\"Actual\",\"Actual\",\"Actual\",\"Actual\",\"Actual\",\"Actual\",\"Actual\",\"Actual\",\"Actual\",\"Actual\",\"Actual\",\"Actual\",\"Actual\",\"Actual\",\"Actual\",\"Actual\",\"Actual\",\"Actual\",\"Actual\",\"Actual\",\"Actual\",\"Actual\",\"Actual\",\"Actual\",\"Actual\",\"Actual\",\"Actual\",\"Actual\",\"Actual\",\"Actual\",\"Actual\",\"Actual\",\"Actual\",\"Actual\",\"Actual\",\"Actual\",\"Actual\",\"Actual\",\"Actual\",\"Actual\",\"Actual\",\"Actual\",\"Actual\",\"Actual\",\"Actual\",\"Actual\",\"Actual\",\"Actual\",\"Actual\",\"Actual\",\"Actual\",\"Actual\",\"Actual\",\"Actual\",\"Actual\",\"Actual\",\"Actual\",\"Actual\",\"Actual\",\"Actual\",\"Actual\",\"Actual\",\"Actual\",\"Actual\",\"Actual\",\"Actual\",\"Actual\",\"Actual\",\"Actual\",\"Actual\",\"Actual\",\"Actual\",\"Actual\",\"Actual\",\"Actual\",\"Actual\",\"Actual\",\"Actual\",\"Actual\",\"Actual\",\"Actual\",\"Actual\",\"Actual\",\"Actual\",\"Actual\",\"Actual\",\"Actual\",\"Actual\",\"Actual\",\"Actual\",\"Actual\",\"Actual\",\"Actual\",\"Actual\",\"Actual\",\"Actual\",\"Actual\",\"Actual\",\"Actual\",\"Actual\",\"Actual\",\"Actual\",\"Actual\",\"Actual\",\"Actual\",\"Actual\",\"Actual\",\"Actual\",\"Actual\",\"Actual\",\"Actual\",\"Actual\",\"Actual\",\"Actual\",\"Actual\",\"Actual\",\"Actual\",\"Actual\",\"Actual\",\"Actual\",\"Actual\",\"Actual\",\"Actual\",\"Actual\",\"Actual\",\"Actual\",\"Actual\",\"Actual\",\"Actual\",\"Actual\",\"Actual\",\"Actual\",\"Actual\",\"Actual\",\"Actual\",\"Actual\",\"Actual\",\"Actual\",\"Actual\",\"Actual\",\"Actual\",\"Actual\",\"Actual\",\"Actual\",\"Actual\",\"Actual\",\"Actual\",\"Actual\",\"Actual\",\"Actual\",\"Actual\",\"Actual\",\"Actual\",\"Actual\",\"Actual\",\"Actual\",\"Actual\",\"Actual\",\"Actual\",\"Actual\",\"Actual\",\"Actual\",\"Actual\",\"Actual\",\"Actual\",\"Actual\",\"Actual\",\"Actual\",\"Actual\",\"Actual\",\"Actual\",\"Actual\",\"Actual\",\"Actual\",\"Actual\",\"Actual\",\"Actual\",\"Actual\",\"Actual\",\"Actual\",\"Actual\",\"Actual\",\"Actual\",\"Actual\",\"Actual\",\"Actual\",\"Actual\",\"Actual\",\"Actual\",\"Actual\",\"Actual\",\"Actual\",\"Actual\",\"Actual\",\"Actual\",\"Actual\",\"Actual\",\"Actual\",\"Actual\",\"Actual\",\"Actual\",\"Actual\",\"Actual\",\"Actual\",\"Actual\",\"Actual\",\"Actual\",\"Actual\",\"Actual\",\"Actual\",\"Actual\",\"Actual\",\"Actual\",\"Actual\",\"Actual\",\"Actual\",\"Actual\",\"Actual\",\"Actual\",\"Actual\",\"Actual\",\"Actual\",\"Actual\",\"Actual\",\"Actual\",\"Actual\",\"Actual\",\"Actual\",\"Actual\",\"Actual\",\"Actual\",\"Actual\",\"Actual\",\"Actual\",\"Actual\",\"Actual\",\"Actual\",\"Actual\",\"Actual\",\"Actual\",\"Actual\",\"Actual\",\"Actual\",\"Actual\",\"Actual\",\"Actual\",\"Actual\",\"Actual\",\"Actual\",\"Actual\",\"Actual\",\"Actual\",\"Actual\",\"Actual\",\"Actual\",\"Actual\",\"Actual\",\"Actual\",\"Actual\",\"Actual\",\"Actual\",\"Actual\",\"Actual\",\"Actual\",\"Actual\",\"Actual\",\"Actual\",\"Actual\",\"Actual\",\"Actual\",\"Actual\",\"Actual\",\"Actual\",\"Actual\",\"Actual\",\"Actual\",\"Actual\",\"Actual\",\"Actual\",\"Actual\",\"Actual\",\"Actual\",\"Actual\",\"Actual\",\"Actual\",\"Actual\",\"Actual\",\"Actual\",\"Actual\",\"Actual\",\"Actual\",\"Actual\",\"Actual\",\"Actual\",\"Actual\",\"Actual\",\"Actual\",\"Actual\",\"Actual\",\"Actual\",\"Actual\",\"Actual\",\"Actual\",\"Actual\",\"Actual\",\"Actual\",\"Actual\",\"Actual\",\"Actual\",\"Actual\",\"Actual\",\"Actual\",\"Actual\",\"Actual\",\"Actual\",\"Actual\",\"Actual\",\"Actual\",\"Actual\",\"Actual\",\"Actual\",\"Actual\",\"Actual\",\"Actual\",\"Actual\",\"Actual\",\"Actual\",\"Actual\",\"Actual\",\"Actual\",\"Actual\",\"Actual\",\"Actual\",\"Actual\",\"Actual\",\"Actual\",\"Actual\",\"Actual\",\"Actual\",\"Actual\",\"Actual\",\"Actual\",\"Actual\",\"Actual\",\"Actual\",\"Actual\",\"Actual\",\"Actual\",\"Actual\",\"Actual\",\"Actual\",\"Actual\",\"Actual\",\"Actual\",\"Actual\",\"Actual\",\"Actual\",\"Actual\",\"Actual\",\"Actual\",\"Actual\",\"Actual\",\"Actual\",\"Actual\",\"Actual\",\"Actual\",\"Actual\",\"Actual\",\"Actual\",\"Actual\",\"Actual\",\"Actual\",\"Actual\",\"Actual\",\"Actual\",\"Actual\",\"Actual\",\"Actual\",\"Actual\",\"Actual\",\"Actual\",\"Actual\",\"Actual\",\"Actual\",\"Actual\",\"Actual\",\"Actual\",\"Actual\",\"Actual\",\"Actual\",\"Actual\",\"Actual\",\"Actual\",\"Actual\",\"Actual\",\"Actual\",\"Actual\",\"Actual\",\"Actual\",\"Actual\",\"Actual\",\"Actual\",\"Actual\",\"Actual\",\"Actual\",\"Actual\",\"Actual\",\"Actual\",\"Actual\",\"Actual\",\"Actual\",\"Actual\",\"Actual\",\"Actual\",\"Actual\",\"Actual\",\"Actual\",\"Actual\",\"Actual\",\"Actual\",\"Actual\",\"Actual\",\"Actual\",\"Actual\",\"Actual\",\"Actual\",\"Actual\",\"Actual\",\"Actual\",\"Actual\",\"Actual\",\"Actual\",\"Actual\",\"Actual\",\"Actual\",\"Actual\",\"Actual\",\"Actual\",\"Actual\",\"Actual\",\"Actual\",\"Actual\",\"Actual\",\"Actual\",\"Actual\",\"Actual\",\"Actual\",\"Actual\",\"Actual\",\"Actual\",\"Actual\",\"Actual\",\"Actual\",\"Actual\",\"Actual\",\"Actual\",\"Actual\",\"Actual\",\"Actual\",\"Actual\",\"Actual\",\"Actual\",\"Actual\",\"Actual\",\"Actual\",\"Actual\",\"Actual\",\"Actual\",\"Actual\",\"Actual\",\"Actual\",\"Actual\",\"Actual\",\"Actual\",\"Actual\",\"Actual\",\"Actual\",\"Actual\",\"Actual\",\"Actual\",\"Actual\",\"Actual\",\"Actual\",\"Actual\",\"Actual\",\"Actual\",\"Actual\",\"Actual\",\"Actual\",\"Actual\",\"Actual\",\"Actual\",\"Actual\",\"Actual\",\"Actual\",\"Actual\",\"Actual\",\"Actual\",\"Actual\",\"Actual\",\"Actual\",\"Actual\",\"Actual\",\"Actual\",\"Actual\",\"Actual\",\"Actual\",\"Actual\",\"Actual\",\"Actual\",\"Actual\",\"Actual\",\"Actual\",\"Actual\",\"Actual\",\"Actual\",\"Actual\",\"Actual\",\"Actual\",\"Actual\",\"Actual\",\"Actual\",\"Actual\",\"Actual\",\"Actual\",\"Actual\",\"Actual\",\"Actual\",\"Actual\",\"Actual\",\"Actual\",\"Actual\",\"Actual\",\"Actual\",\"Actual\",\"Actual\",\"Actual\",\"Actual\",\"Actual\",\"Actual\",\"Actual\",\"Actual\",\"Actual\",\"Actual\",\"Actual\",\"Actual\",\"Actual\",\"Actual\",\"Actual\",\"Actual\",\"Actual\",\"Actual\",\"Actual\",\"Actual\",\"Actual\",\"Actual\",\"Actual\",\"Actual\",\"Actual\",\"Actual\",\"Actual\",\"Actual\",\"Actual\",\"Actual\",\"Actual\",\"Actual\",\"Actual\",\"Actual\",\"Actual\",\"Actual\",\"Actual\",\"Actual\",\"Actual\",\"Actual\",\"Actual\",\"Actual\",\"Actual\",\"Actual\",\"Actual\",\"Actual\",\"Actual\",\"Actual\",\"Actual\",\"Actual\",\"Actual\",\"Actual\",\"Actual\",\"Actual\",\"Actual\",\"Actual\",\"Actual\",\"Actual\",\"Actual\",\"Actual\",\"Actual\",\"Actual\",\"Actual\",\"Actual\",\"Actual\",\"Actual\",\"Actual\",\"Actual\",\"Actual\",\"Actual\",\"Actual\",\"Actual\",\"Actual\",\"Actual\",\"Actual\",\"Actual\",\"Actual\",\"Actual\",\"Actual\",\"Actual\",\"Actual\",\"Actual\",\"Actual\",\"Actual\",\"Actual\",\"Actual\",\"Actual\",\"Actual\",\"Actual\",\"Actual\",\"Actual\",\"Actual\",\"Actual\",\"Actual\",\"Actual\",\"Actual\",\"Actual\",\"Actual\",\"Actual\",\"Actual\",\"Actual\",\"Actual\",\"Actual\",\"Actual\",\"Actual\",\"Actual\",\"Actual\",\"Actual\",\"Actual\",\"Actual\",\"Actual\",\"Actual\",\"Actual\",\"Actual\",\"Actual\",\"Actual\",\"Actual\",\"Actual\",\"Actual\",\"Actual\",\"Actual\",\"Actual\",\"Actual\",\"Actual\",\"Actual\",\"Actual\",\"Actual\",\"Actual\",\"Actual\",\"Actual\",\"Actual\",\"Actual\",\"Actual\",\"Actual\",\"Actual\",\"Actual\",\"Actual\",\"Actual\",\"Actual\",\"Actual\",\"Actual\",\"Actual\",\"Actual\",\"Actual\",\"Actual\",\"Actual\",\"Actual\",\"Actual\",\"Actual\",\"Actual\",\"Actual\",\"Actual\",\"Actual\",\"Actual\",\"Actual\",\"Actual\",\"Actual\",\"Actual\",\"Actual\",\"Actual\",\"Actual\",\"Actual\",\"Actual\",\"Actual\",\"Actual\",\"Actual\",\"Actual\",\"Actual\",\"Actual\",\"Actual\",\"Actual\",\"Actual\",\"Actual\",\"Actual\",\"Actual\",\"Actual\",\"Actual\",\"Actual\",\"Actual\",\"Actual\",\"Actual\",\"Actual\",\"Actual\",\"Actual\",\"Actual\",\"Actual\",\"Actual\",\"Actual\",\"Actual\",\"Actual\",\"Actual\",\"Actual\",\"Actual\",\"Actual\",\"Actual\",\"Actual\",\"Actual\",\"Actual\",\"Actual\",\"Actual\",\"Actual\",\"Actual\",\"Actual\",\"Actual\",\"Actual\",\"Actual\",\"Actual\",\"Actual\",\"Actual\",\"Actual\",\"Actual\",\"Actual\",\"Actual\",\"Actual\",\"Actual\",\"Actual\",\"Actual\",\"Actual\",\"Actual\",\"Actual\",\"Actual\",\"Actual\",\"Actual\",\"Actual\",\"Actual\",\"Actual\",\"Actual\",\"Actual\",\"Actual\",\"Actual\",\"Actual\",\"Actual\",\"Actual\",\"Actual\",\"Actual\",\"Actual\",\"Actual\",\"Actual\",\"Actual\",\"Actual\",\"Actual\",\"Actual\",\"Actual\",\"Actual\",\"Actual\",\"Actual\",\"Actual\",\"Actual\",\"Actual\",\"Actual\",\"Actual\",\"Actual\",\"Actual\",\"Actual\",\"Actual\",\"Actual\",\"Actual\",\"Actual\",\"Actual\",\"Actual\",\"Actual\",\"Actual\",\"Actual\",\"Actual\",\"Actual\",\"Actual\",\"Actual\",\"Actual\",\"Actual\",\"Actual\",\"Actual\",\"Actual\",\"Actual\",\"Actual\",\"Actual\",\"Actual\",\"Actual\",\"Actual\",\"Actual\",\"Actual\",\"Actual\",\"Actual\",\"Actual\",\"Actual\",\"Actual\",\"Actual\",\"Actual\",\"Actual\",\"Actual\",\"Actual\",\"Actual\",\"Actual\",\"Actual\",\"Actual\",\"Actual\",\"Actual\",\"Actual\",\"Actual\",\"Actual\",\"Actual\",\"Actual\",\"Actual\",\"Actual\",\"Actual\",\"Actual\",\"Actual\",\"Actual\",\"Actual\",\"Actual\",\"Actual\",\"Actual\",\"Actual\",\"Actual\",\"Actual\",\"Actual\",\"Actual\",\"Actual\",\"Actual\",\"Actual\",\"Actual\",\"Actual\",\"Actual\",\"Actual\",\"Actual\",\"Actual\",\"Actual\",\"Actual\",\"Actual\",\"Actual\",\"Actual\",\"Actual\",\"Actual\",\"Actual\",\"Actual\",\"Actual\",\"Actual\",\"Actual\",\"Actual\",\"Actual\",\"Actual\",\"Actual\",\"Actual\",\"Actual\",\"Actual\",\"Actual\",\"Actual\",\"Actual\",\"Actual\",\"Actual\",\"Actual\",\"Actual\",\"Actual\",\"Actual\",\"Actual\",\"Actual\",\"Actual\",\"Actual\",\"Actual\",\"Actual\",\"Actual\",\"Actual\",\"Actual\",\"Actual\",\"Actual\",\"Actual\",\"Actual\",\"Actual\",\"Actual\",\"Actual\",\"Actual\",\"Actual\",\"Actual\",\"Actual\",\"Actual\",\"Actual\",\"Actual\",\"Actual\",\"Actual\",\"Actual\",\"Actual\",\"Actual\",\"Actual\",\"Actual\",\"Actual\",\"Actual\",\"Actual\",\"Actual\",\"Actual\",\"Actual\",\"Actual\",\"Actual\",\"Actual\",\"Actual\",\"Actual\",\"Actual\",\"Actual\",\"Actual\",\"Actual\",\"Actual\",\"Actual\",\"Actual\",\"Actual\",\"Actual\",\"Actual\",\"Actual\",\"Actual\",\"Actual\",\"Actual\",\"Actual\",\"Actual\",\"Actual\",\"Actual\",\"Actual\",\"Actual\",\"Actual\",\"Actual\",\"Actual\",\"Actual\",\"Actual\",\"Actual\",\"Actual\",\"Actual\",\"Actual\",\"Actual\",\"Actual\",\"Actual\",\"Actual\",\"Actual\",\"Actual\",\"Actual\",\"Actual\",\"Actual\",\"Actual\",\"Actual\",\"Actual\",\"Actual\",\"Actual\",\"Actual\",\"Actual\",\"Actual\",\"Actual\",\"Actual\",\"Actual\",\"Actual\",\"Actual\",\"Actual\"],\"index\":[0,1,2,3,4,5,6,7,8,9,10,11,12,13,14,15,16,17,18,19,20,21,22,23,24,25,26,27,28,29,30,31,32,33,34,35,36,37,38,39,40,41,42,43,44,45,46,47,48,49,50,51,52,53,54,55,56,57,58,59,60,61,62,63,64,65,66,67,68,69,70,71,72,73,74,75,76,77,78,79,80,81,82,83,84,85,86,87,88,89,90,91,92,93,94,95,96,97,98,99,100,101,102,103,104,105,106,107,108,109,110,111,112,113,114,115,116,117,118,119,120,121,122,123,124,125,126,127,128,129,130,131,132,133,134,135,136,137,138,139,140,141,142,143,144,145,146,147,148,149,150,151,152,153,154,155,156,157,158,159,160,161,162,163,164,165,166,167,168,169,170,171,172,173,174,175,176,177,178,179,180,181,182,183,184,185,186,187,188,189,190,191,192,193,194,195,196,197,198,199,200,201,202,203,204,205,206,207,208,209,210,211,212,213,214,215,216,217,218,219,220,221,222,223,224,225,226,227,228,229,230,231,232,233,234,235,236,237,238,239,240,241,242,243,244,245,246,247,248,249,250,251,252,253,254,255,256,257,258,259,260,261,262,263,264,265,266,267,268,269,270,271,272,273,274,275,276,277,278,279,280,281,282,283,284,285,286,287,288,289,290,291,292,293,294,295,296,297,298,299,300,301,302,303,304,305,306,307,308,309,310,311,312,313,314,315,316,317,318,319,320,321,322,323,324,325,326,327,328,329,330,331,332,333,334,335,336,337,338,339,340,341,342,343,344,345,346,347,348,349,350,351,352,353,354,355,356,357,358,359,360,361,362,363,364,365,366,367,368,369,370,371,372,373,374,375,376,377,378,379,380,381,382,383,384,385,386,387,388,389,390,391,392,393,394,395,396,397,398,399,400,401,402,403,404,405,406,407,408,409,410,411,412,413,414,415,416,417,418,419,420,421,422,423,424,425,426,427,428,429,430,431,432,433,434,435,436,437,438,439,440,441,442,443,444,445,446,447,448,449,450,451,452,453,454,455,456,457,458,459,460,461,462,463,464,465,466,467,468,469,470,471,472,473,474,475,476,477,478,479,480,481,482,483,484,485,486,487,488,489,490,491,492,493,494,495,496,497,498,499,500,501,502,503,504,505,506,507,508,509,510,511,512,513,514,515,516,517,518,519,520,521,522,523,524,525,526,527,528,529,530,531,532,533,534,535,536,537,538,539,540,541,542,543,544,545,546,547,548,549,550,551,552,553,554,555,556,557,558,559,560,561,562,563,564,565,566,567,568,569,570,571,572,573,574,575,576,577,578,579,580,581,582,583,584,585,586,587,588,589,590,591,592,593,594,595,596,597,598,599,600,601,602,603,604,605,606,607,608,609,610,611,612,613,614,615,616,617,618,619,620,621,622,623,624,625,626,627,628,629,630,631,632,633,634,635,636,637,638,639,640,641,642,643,644,645,646,647,648,649,650,651,652,653,654,655,656,657,658,659,660,661,662,663,664,665,666,667,668,669,670,671,672,673,674,675,676,677,678,679,680,681,682,683,684,685,686,687,688,689,690,691,692,693,694,695,696,697,698,699,700,701,702,703,704,705,706,707,708,709,710,711,712,713,714,715,716,717,718,719,720,721,722,723,724,725,726,727,728,729,730,731,732,733,734,735,736,737,738,739,740,741,742,743,744,745,746,747,748,749,750,751,752,753,754,755,756,757,758,759,760,761,762,763,764,765,766,767,768,769,770,771,772,773,774,775,776,777,778,779,780,781,782,783,784,785,786,787,788,789,790,791,792,793,794,795,796,797,798,799,800,801,802,803,804,805,806,807,808,809,810,811,812,813,814,815,816,817,818,819,820,821,822,823,824,825,826,827,828,829,830,831,832,833,834,835,836,837,838,839,840,841,842,843,844,845,846,847,848,849,850,851,852,853,854,855,856,857,858,859,860,861,862,863,864,865,866,867,868,869,870,871,872,873,874,875,876,877,878,879,880,881,882,883,884,885,886,887,888,889,890,891,892,893,894,895,896,897,898,899,900,901,902,903,904,905,906,907,908,909,910,911,912,913,914,915,916,917,918,919,920,921,922,923,924,925,926,927,928,929,930,931,932,933,934,935,936,937,938,939,940,941,942,943,944,945,946,947,948,949,950,951,952,953,954,955,956,957,958,959,960,961,962,963,964,965,966,967,968,969,970,971,972,973,974,975,976,977,978,979,980,981,982,983,984,985,986,987,988,989,990,991,992,993,994],\"value\":{\"__ndarray__\":\"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\",\"dtype\":\"float64\",\"shape\":[995]}},\"selected\":{\"id\":\"2272\"},\"selection_policy\":{\"id\":\"2301\"}},\"id\":\"2271\",\"type\":\"ColumnDataSource\"},{\"attributes\":{},\"id\":\"2268\",\"type\":\"BasicTickFormatter\"},{\"attributes\":{},\"id\":\"2288\",\"type\":\"Selection\"},{\"attributes\":{\"line_color\":\"#ff7e0e\",\"line_width\":2,\"x\":{\"field\":\"index\"},\"y\":{\"field\":\"value\"}},\"id\":\"2290\",\"type\":\"Line\"},{\"attributes\":{},\"id\":\"2251\",\"type\":\"BasicTicker\"}],\"root_ids\":[\"2231\"]},\"title\":\"Bokeh Application\",\"version\":\"2.0.1\"}};\n",
       "  var render_items = [{\"docid\":\"bb74e76e-c2f7-4266-9c0c-11ade596e125\",\"root_ids\":[\"2231\"],\"roots\":{\"2231\":\"0c4d28db-5444-433c-803f-a1b38aef9500\"}}];\n",
       "  root.Bokeh.embed.embed_items_notebook(docs_json, render_items);\n",
       "  }\n",
       "if (root.Bokeh !== undefined) {\n",
       "    embed_document(root);\n",
       "  } else {\n",
       "    var attempts = 0;\n",
       "    var timer = setInterval(function(root) {\n",
       "      if (root.Bokeh !== undefined) {\n",
       "        clearInterval(timer);\n",
       "        embed_document(root);\n",
       "      } else if (document.readyState == \"complete\") {\n",
       "        attempts++;\n",
       "        if (attempts > 100) {\n",
       "          clearInterval(timer);\n",
       "          console.log(\"Bokeh: ERROR: Unable to run BokehJS code because BokehJS library is missing\");\n",
       "        }\n",
       "      }\n",
       "    }, 10, root)\n",
       "  }\n",
       "})(window);</script>"
      ],
      "text/plain": [
       ":NdOverlay   [Variable]\n",
       "   :Curve   [index]   (value)"
      ]
     },
     "execution_count": 30,
     "metadata": {
      "application/vnd.holoviews_exec.v0+json": {
       "id": "2231"
      }
     },
     "output_type": "execute_result"
    }
   ],
   "source": [
    "import hvplot\n",
    "import hvplot.pandas\n",
    "\n",
    "s = stocks.hvplot(\n",
    "    width=1400,\n",
    "    height=600,\n",
    "    title=\"Actual Vs. Predicted Stock Prices\"\n",
    ")\n",
    "s"
   ]
  },
  {
   "cell_type": "markdown",
   "metadata": {},
   "source": [
    "Changed loss function to mean absolute error becasue it is an appropriate loss function in this case as it is more robust to outliers. It is calculated as the average of the absolute difference between the actual and predicted values"
   ]
  },
  {
   "cell_type": "code",
   "execution_count": null,
   "metadata": {},
   "outputs": [],
   "source": []
  }
 ],
 "metadata": {
  "kernelspec": {
   "display_name": "Python 3",
   "language": "python",
   "name": "python3"
  },
  "language_info": {
   "codemirror_mode": {
    "name": "ipython",
    "version": 3
   },
   "file_extension": ".py",
   "mimetype": "text/x-python",
   "name": "python",
   "nbconvert_exporter": "python",
   "pygments_lexer": "ipython3",
   "version": "3.7.7"
  }
 },
 "nbformat": 4,
 "nbformat_minor": 4
}
